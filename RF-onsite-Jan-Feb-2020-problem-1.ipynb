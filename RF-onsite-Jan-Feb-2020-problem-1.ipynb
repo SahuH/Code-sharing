{
 "cells": [
  {
   "cell_type": "markdown",
   "metadata": {},
   "source": [
    "## Handling tabular data\n",
    "\n",
    "Using python, read the `amazon.csv` file and do the following:\n",
    "\n",
"1. In the file, month is written in Portuguese. Convert it into english months.\n",
"2. In this data file, in the date column date, all dates are in the format yyyy-mm-dd. But all the mm and dd parts are 01 and 01 respectively. \n", Replace 01 in the mm placeholder with the numerical month.\n",
"3. For the different areas, plot a bar plot showing the total number of forest fires.\n",
"4. Do median imputation for NA in the number and and mode imputation for NA in state columns.\n",
    "\n",
    "**Time for the question - 30 minutes.**"
   ]
  },
  {
   "cell_type": "code",
   "execution_count": null,
   "metadata": {},
   "outputs": [],
   "source": []
  }
 ],
 "metadata": {
  "kernelspec": {
   "display_name": "Python 3",
   "language": "python",
   "name": "python3"
  },
  "language_info": {
   "codemirror_mode": {
    "name": "ipython",
    "version": 3
   },
   "file_extension": ".py",
   "mimetype": "text/x-python",
   "name": "python",
   "nbconvert_exporter": "python",
   "pygments_lexer": "ipython3",
   "version": "3.7.4"
  }
 },
 "nbformat": 4,
 "nbformat_minor": 4
}
